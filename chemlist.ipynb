{
 "cells": [
  {
   "cell_type": "code",
   "execution_count": 44,
   "metadata": {
    "collapsed": true
   },
   "outputs": [],
   "source": [
    "import pubchempy as pcp\n",
    "from time import sleep"
   ]
  },
  {
   "cell_type": "code",
   "execution_count": 46,
   "outputs": [
    {
     "name": "stdout",
     "output_type": "stream",
     "text": [
      "Magnesium dichloride (Cl2Mg)\t95.21\thttps://pubchem.ncbi.nlm.nih.gov/compound/5360315\t\n",
      "Magnesium dichloride heptahydrate (Cl2H14MgO7)\t221.32\thttps://pubchem.ncbi.nlm.nih.gov/compound/129701623\t\n",
      "Potassium chloride (ClK)\t74.55\thttps://pubchem.ncbi.nlm.nih.gov/compound/4873\t\n",
      "Azanium chloride (ClH4N)\t53.49\thttps://pubchem.ncbi.nlm.nih.gov/compound/25517\t\n",
      "Sodium dihydrogen phosphate (H2NaO4P)\t119.977\thttps://pubchem.ncbi.nlm.nih.gov/compound/23672064\t\n",
      "Sodium dihydrogen phosphate hydrate (H4NaO5P)\t137.99\thttps://pubchem.ncbi.nlm.nih.gov/compound/516949\t\n",
      "Calcium dichloride (CaCl2)\t110.98\thttps://pubchem.ncbi.nlm.nih.gov/compound/5284359\t\n",
      "Calcium dichloride dihydrate (CaCl2H4O2)\t147.01\thttps://pubchem.ncbi.nlm.nih.gov/compound/6093260\t\n",
      "Magnesium sulfate (MgO4S)\t120.37\thttps://pubchem.ncbi.nlm.nih.gov/compound/24083\t\n",
      "Magnesium sulfate heptahydrate (H14MgO11S)\t246.48\thttps://pubchem.ncbi.nlm.nih.gov/compound/24843\t\n",
      "Sodium hydrogen carbonate (CHNaO3)\t84.007\thttps://pubchem.ncbi.nlm.nih.gov/compound/516892\t\n",
      "Propane-1,2,3-triol (C3H8O3)\t92.09\thttps://pubchem.ncbi.nlm.nih.gov/compound/753\t\n",
      "Disodium (e)-but-2-enedioate (C4H2Na2O4)\t160.04\thttps://pubchem.ncbi.nlm.nih.gov/compound/6364607\t\n",
      "\n"
     ]
    }
   ],
   "source": [
    "names = [\n",
    "    'MgCl2',\n",
    "    'Magnesium chloride heptahydrate',\n",
    "    'KCl',\n",
    "    'NH4Cl',\n",
    "    'NaH2PO4',\n",
    "    'Sodium dihydrogen phosphate monohydrate',\n",
    "    'CaCl2',\n",
    "    'Calcium dichloride dihydrate',\n",
    "    'MgSO4',\n",
    "    'Magnesium Sulfate Heptahydrate',\n",
    "    'NaHCO3',\n",
    "    'Glycerol',\n",
    "    'Sodium Fumarate Dibasic',\n",
    "]\n",
    "results = ''\n",
    "for n in names:\n",
    "    sleep(.3)\n",
    "    k = pcp.get_compounds(n, \"name\")\n",
    "    if len(k) > 1:\n",
    "        print(f\"More than one possibility for {n}\")\n",
    "        for i in range(0, len(k)):\n",
    "            print(k[i].to_dict()['iupac_name'])\n",
    "        continue\n",
    "    elif len(k) == 0:\n",
    "        print(f\"Fail: {n}\")\n",
    "        continue\n",
    "    kd = k[0].to_dict()\n",
    "    # print(kd.keys())\n",
    "    # print(kd['molecular_weight'])\n",
    "    # print(kd['cid'])\n",
    "    # print(kd['iupac_name'])\n",
    "    results += f\"{kd['iupac_name'].replace(';', ' ').capitalize()} ({kd['molecular_formula']})\\t{kd['molecular_weight']}\\thttps://pubchem.ncbi.nlm.nih.gov/compound/{kd['cid']}\\t\\n\"\n",
    "print(results)\n"
   ],
   "metadata": {
    "collapsed": false
   }
  },
  {
   "cell_type": "code",
   "execution_count": null,
   "outputs": [],
   "source": [],
   "metadata": {
    "collapsed": false
   }
  }
 ],
 "metadata": {
  "kernelspec": {
   "display_name": "Python 3",
   "language": "python",
   "name": "python3"
  },
  "language_info": {
   "codemirror_mode": {
    "name": "ipython",
    "version": 2
   },
   "file_extension": ".py",
   "mimetype": "text/x-python",
   "name": "python",
   "nbconvert_exporter": "python",
   "pygments_lexer": "ipython2",
   "version": "2.7.6"
  }
 },
 "nbformat": 4,
 "nbformat_minor": 0
}
